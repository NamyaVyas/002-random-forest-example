{
  "cells": [
    {
      "cell_type": "markdown",
      "metadata": {
        "id": "view-in-github",
        "colab_type": "text"
      },
      "source": [
        "<a href=\"https://colab.research.google.com/github/NamyaVyas/002-random-forest-example/blob/main/ssp_tcn_200M_(1).ipynb\" target=\"_parent\"><img src=\"https://colab.research.google.com/assets/colab-badge.svg\" alt=\"Open In Colab\"/></a>"
      ]
    },
    {
      "cell_type": "code",
      "execution_count": null,
      "metadata": {
        "ExecuteTime": {
          "end_time": "2022-04-07T19:04:41.709676Z",
          "start_time": "2022-04-07T19:04:38.967619Z"
        },
        "scrolled": true,
        "id": "HGU8Y-WN7-qX",
        "outputId": "c68d39a2-a61f-4637-bdd9-fda9071dab1d"
      },
      "outputs": [
        {
          "name": "stderr",
          "output_type": "stream",
          "text": [
            "Using TensorFlow backend.\n",
            "/home/hegder/anaconda3/envs/dlc/lib/python3.6/site-packages/tensorflow/python/framework/dtypes.py:516: FutureWarning: Passing (type, 1) or '1type' as a synonym of type is deprecated; in a future version of numpy, it will be understood as (type, (1,)) / '(1,)type'.\n",
            "  _np_qint8 = np.dtype([(\"qint8\", np.int8, 1)])\n",
            "/home/hegder/anaconda3/envs/dlc/lib/python3.6/site-packages/tensorflow/python/framework/dtypes.py:517: FutureWarning: Passing (type, 1) or '1type' as a synonym of type is deprecated; in a future version of numpy, it will be understood as (type, (1,)) / '(1,)type'.\n",
            "  _np_quint8 = np.dtype([(\"quint8\", np.uint8, 1)])\n",
            "/home/hegder/anaconda3/envs/dlc/lib/python3.6/site-packages/tensorflow/python/framework/dtypes.py:518: FutureWarning: Passing (type, 1) or '1type' as a synonym of type is deprecated; in a future version of numpy, it will be understood as (type, (1,)) / '(1,)type'.\n",
            "  _np_qint16 = np.dtype([(\"qint16\", np.int16, 1)])\n",
            "/home/hegder/anaconda3/envs/dlc/lib/python3.6/site-packages/tensorflow/python/framework/dtypes.py:519: FutureWarning: Passing (type, 1) or '1type' as a synonym of type is deprecated; in a future version of numpy, it will be understood as (type, (1,)) / '(1,)type'.\n",
            "  _np_quint16 = np.dtype([(\"quint16\", np.uint16, 1)])\n",
            "/home/hegder/anaconda3/envs/dlc/lib/python3.6/site-packages/tensorflow/python/framework/dtypes.py:520: FutureWarning: Passing (type, 1) or '1type' as a synonym of type is deprecated; in a future version of numpy, it will be understood as (type, (1,)) / '(1,)type'.\n",
            "  _np_qint32 = np.dtype([(\"qint32\", np.int32, 1)])\n",
            "/home/hegder/anaconda3/envs/dlc/lib/python3.6/site-packages/tensorflow/python/framework/dtypes.py:525: FutureWarning: Passing (type, 1) or '1type' as a synonym of type is deprecated; in a future version of numpy, it will be understood as (type, (1,)) / '(1,)type'.\n",
            "  np_resource = np.dtype([(\"resource\", np.ubyte, 1)])\n",
            "/home/hegder/anaconda3/envs/dlc/lib/python3.6/site-packages/tensorboard/compat/tensorflow_stub/dtypes.py:541: FutureWarning: Passing (type, 1) or '1type' as a synonym of type is deprecated; in a future version of numpy, it will be understood as (type, (1,)) / '(1,)type'.\n",
            "  _np_qint8 = np.dtype([(\"qint8\", np.int8, 1)])\n",
            "/home/hegder/anaconda3/envs/dlc/lib/python3.6/site-packages/tensorboard/compat/tensorflow_stub/dtypes.py:542: FutureWarning: Passing (type, 1) or '1type' as a synonym of type is deprecated; in a future version of numpy, it will be understood as (type, (1,)) / '(1,)type'.\n",
            "  _np_quint8 = np.dtype([(\"quint8\", np.uint8, 1)])\n",
            "/home/hegder/anaconda3/envs/dlc/lib/python3.6/site-packages/tensorboard/compat/tensorflow_stub/dtypes.py:543: FutureWarning: Passing (type, 1) or '1type' as a synonym of type is deprecated; in a future version of numpy, it will be understood as (type, (1,)) / '(1,)type'.\n",
            "  _np_qint16 = np.dtype([(\"qint16\", np.int16, 1)])\n",
            "/home/hegder/anaconda3/envs/dlc/lib/python3.6/site-packages/tensorboard/compat/tensorflow_stub/dtypes.py:544: FutureWarning: Passing (type, 1) or '1type' as a synonym of type is deprecated; in a future version of numpy, it will be understood as (type, (1,)) / '(1,)type'.\n",
            "  _np_quint16 = np.dtype([(\"quint16\", np.uint16, 1)])\n",
            "/home/hegder/anaconda3/envs/dlc/lib/python3.6/site-packages/tensorboard/compat/tensorflow_stub/dtypes.py:545: FutureWarning: Passing (type, 1) or '1type' as a synonym of type is deprecated; in a future version of numpy, it will be understood as (type, (1,)) / '(1,)type'.\n",
            "  _np_qint32 = np.dtype([(\"qint32\", np.int32, 1)])\n",
            "/home/hegder/anaconda3/envs/dlc/lib/python3.6/site-packages/tensorboard/compat/tensorflow_stub/dtypes.py:550: FutureWarning: Passing (type, 1) or '1type' as a synonym of type is deprecated; in a future version of numpy, it will be understood as (type, (1,)) / '(1,)type'.\n",
            "  np_resource = np.dtype([(\"resource\", np.ubyte, 1)])\n"
          ]
        }
      ],
      "source": [
        "import numpy as np\n",
        "import matplotlib.pyplot as plt\n",
        "from sklearn import preprocessing\n",
        "import h5py\n",
        "\n",
        "from keras.utils import to_categorical\n",
        "import copy\n",
        "\n",
        "import tensorflow as tf\n",
        "from tensorflow import keras\n",
        "from keras.models import load_model"
      ]
    },
    {
      "cell_type": "code",
      "execution_count": null,
      "metadata": {
        "ExecuteTime": {
          "end_time": "2022-04-07T19:28:49.817506Z",
          "start_time": "2022-04-07T19:04:41.711678Z"
        },
        "id": "A4OaKtJG7-qb",
        "outputId": "bd9cdae0-e5c6-4bff-d2aa-39269f83d77f"
      },
      "outputs": [
        {
          "data": {
            "text/plain": [
              "(200001969, 10)"
            ]
          },
          "execution_count": 2,
          "metadata": {},
          "output_type": "execute_result"
        }
      ],
      "source": [
        "# Min-Max scaling of input\n",
        "\n",
        "xxx = np.loadtxt('XXX_200M.txt')\n",
        "np.shape(xxx)"
      ]
    },
    {
      "cell_type": "code",
      "execution_count": null,
      "metadata": {
        "ExecuteTime": {
          "end_time": "2022-04-07T19:29:41.881683Z",
          "start_time": "2022-04-07T19:29:34.135614Z"
        },
        "id": "Hee2UWpd7-qc"
      },
      "outputs": [],
      "source": [
        "xxx = np.array(xxx)/255"
      ]
    },
    {
      "cell_type": "code",
      "execution_count": null,
      "metadata": {
        "ExecuteTime": {
          "end_time": "2022-03-28T10:12:04.476575Z",
          "start_time": "2022-03-28T10:12:01.614886Z"
        },
        "id": "US6BkwO67-qc"
      },
      "outputs": [],
      "source": [
        "# s_tr = 100000000\n",
        "# x_tr = copy.deepcopy(xxx[:s_tr])"
      ]
    },
    {
      "cell_type": "code",
      "execution_count": null,
      "metadata": {
        "ExecuteTime": {
          "end_time": "2022-04-07T19:29:47.443427Z",
          "start_time": "2022-04-07T19:29:44.593417Z"
        },
        "id": "0pI3OhSw7-qd"
      },
      "outputs": [],
      "source": [
        "s_tr = 100000000\n",
        "x_te = copy.deepcopy(xxx[s_tr:])"
      ]
    },
    {
      "cell_type": "code",
      "execution_count": null,
      "metadata": {
        "ExecuteTime": {
          "end_time": "2022-04-07T19:29:52.234794Z",
          "start_time": "2022-04-07T19:29:52.193980Z"
        },
        "id": "8xyMt-4b7-qe"
      },
      "outputs": [],
      "source": [
        "del xxx"
      ]
    },
    {
      "cell_type": "code",
      "execution_count": null,
      "metadata": {
        "ExecuteTime": {
          "end_time": "2022-04-07T19:30:00.299577Z",
          "start_time": "2022-04-07T19:29:59.162926Z"
        },
        "id": "AvAr9hA37-qe"
      },
      "outputs": [],
      "source": [
        "# Read the file\n",
        "ff1 = open ('m_32_200M.txt', 'r')\n",
        "ff2 = ff1.read()"
      ]
    },
    {
      "cell_type": "code",
      "execution_count": null,
      "metadata": {
        "ExecuteTime": {
          "end_time": "2022-04-07T19:31:24.488946Z",
          "start_time": "2022-04-07T19:30:04.269504Z"
        },
        "id": "jhouOVVU7-qf"
      },
      "outputs": [],
      "source": [
        "# Divide the bitstream, xx will be bitstream, yy will be decimal integer of bitstream\n",
        "\n",
        "span = 10\n",
        "xy_l = (span+1)*8\n",
        "xy = []\n",
        "for i in range (len(ff2)-xy_l+1):\n",
        "    xy.append(ff2[i:i+xy_l]) \n",
        "\n",
        "yy = []\n",
        "for i in range(100000000,200000000):\n",
        "    yy.append(int(xy[i][span*8:],2))\n",
        "del(xy)\n",
        "del(ff1)\n",
        "del(ff2)"
      ]
    },
    {
      "cell_type": "code",
      "execution_count": null,
      "metadata": {
        "ExecuteTime": {
          "end_time": "2022-03-22T07:49:54.487316Z",
          "start_time": "2022-03-22T07:49:51.638Z"
        },
        "id": "d4egBPDH7-qg"
      },
      "outputs": [],
      "source": [
        "# # Encode the input xx in decimal\n",
        "# # xxx = []\n",
        "# for i in range(len(xx)):\n",
        "#     temp = []\n",
        "#     aa = np.reshape(list(xx[i]), (span,8))\n",
        "#     for j in range (span):\n",
        "#         temp.append(int(\"\".join(aa[j]), 2))\n",
        "#     with open('XXX_200M.txt','a') as xxx:\n",
        "#         np.savetxt(xxx, [temp], delimiter='\\t',fmt='%s')"
      ]
    },
    {
      "cell_type": "code",
      "execution_count": null,
      "metadata": {
        "ExecuteTime": {
          "end_time": "2022-04-07T19:32:34.028910Z",
          "start_time": "2022-04-07T19:32:02.847875Z"
        },
        "id": "7hBTLYwB7-qi"
      },
      "outputs": [],
      "source": [
        "# Encode the output yy in one-hot\n",
        "yyy = to_categorical(yy, num_classes = 256) "
      ]
    },
    {
      "cell_type": "code",
      "execution_count": null,
      "metadata": {
        "ExecuteTime": {
          "end_time": "2022-04-07T19:32:40.398177Z",
          "start_time": "2022-04-07T19:32:40.249943Z"
        },
        "id": "sDjT7SUr7-qk"
      },
      "outputs": [],
      "source": [
        "del yy"
      ]
    },
    {
      "cell_type": "code",
      "execution_count": null,
      "metadata": {
        "ExecuteTime": {
          "end_time": "2022-04-07T19:32:51.112853Z",
          "start_time": "2022-04-07T19:32:51.105856Z"
        },
        "id": "HaU1sr1q7-qk",
        "outputId": "8d6f00af-7faf-4265-f81f-d750b5fcd54b"
      },
      "outputs": [
        {
          "data": {
            "text/plain": [
              "100000000"
            ]
          },
          "execution_count": 10,
          "metadata": {},
          "output_type": "execute_result"
        }
      ],
      "source": [
        "s_tr"
      ]
    },
    {
      "cell_type": "code",
      "execution_count": null,
      "metadata": {
        "ExecuteTime": {
          "end_time": "2022-03-25T12:03:02.975703Z",
          "start_time": "2022-03-25T07:00:00.184297Z"
        },
        "id": "VmfXIx-S7-ql"
      },
      "outputs": [],
      "source": [
        "# for i in range (len(yyy)):\n",
        "#     with open('YYY_200M.txt','a') as yyy1:\n",
        "#         np.savetxt(yyy1, [yyy[i]], delimiter='\\t',fmt='%i')"
      ]
    },
    {
      "cell_type": "code",
      "execution_count": null,
      "metadata": {
        "ExecuteTime": {
          "end_time": "2022-04-07T19:32:54.072826Z",
          "start_time": "2022-04-07T19:32:54.064877Z"
        },
        "id": "zpH6jAE47-qm",
        "outputId": "2a30a0d7-4795-448b-e662-1dc14f3f21ff"
      },
      "outputs": [
        {
          "data": {
            "text/plain": [
              "112"
            ]
          },
          "execution_count": 11,
          "metadata": {},
          "output_type": "execute_result"
        }
      ],
      "source": [
        "import sys\n",
        "sys.getsizeof(yyy)"
      ]
    },
    {
      "cell_type": "code",
      "execution_count": null,
      "metadata": {
        "ExecuteTime": {
          "end_time": "2022-04-07T19:41:37.879314Z",
          "start_time": "2022-04-07T19:33:16.376979Z"
        },
        "scrolled": true,
        "id": "C9Mctt1K7-qn"
      },
      "outputs": [],
      "source": [
        "# y_tr = copy.deepcopy(yyy[:s_tr])\n",
        "y_te = copy.deepcopy(yyy)"
      ]
    },
    {
      "cell_type": "code",
      "execution_count": null,
      "metadata": {
        "ExecuteTime": {
          "end_time": "2022-04-08T18:41:39.177285Z",
          "start_time": "2022-04-08T18:41:39.169509Z"
        },
        "id": "JnDFmeuv7-qn",
        "outputId": "c138086b-53be-4a2d-9ccb-4c3360786768"
      },
      "outputs": [
        {
          "data": {
            "text/plain": [
              "(100000000, 256)"
            ]
          },
          "execution_count": 17,
          "metadata": {},
          "output_type": "execute_result"
        }
      ],
      "source": [
        "np.shape(y_te)"
      ]
    },
    {
      "cell_type": "code",
      "execution_count": null,
      "metadata": {
        "ExecuteTime": {
          "end_time": "2022-04-08T18:41:45.898012Z",
          "start_time": "2022-04-08T18:41:44.743928Z"
        },
        "id": "gkztIQGh7-qo"
      },
      "outputs": [],
      "source": [
        "del yyy"
      ]
    },
    {
      "cell_type": "code",
      "execution_count": null,
      "metadata": {
        "ExecuteTime": {
          "end_time": "2022-03-24T19:01:23.549621Z",
          "start_time": "2022-03-24T19:01:23.480111Z"
        },
        "id": "gNq7qtC57-qo"
      },
      "outputs": [],
      "source": [
        "# Train-test split\n",
        "s_tr = 100000000\n",
        "# x_tr, x_te, y_tr, y_te = xxx[:s_tr], xxx[s_tr:1000000], yyy[:s_tr], yyy[s_tr:1000000]\n",
        "x_tr, x_te, y_tr, y_te = copy.deepcopy(xxx[:s_tr]), copy.deepcopy(xxx[s_tr:]), copy.deepcopy(yyy[:s_tr]), copy.deepcopy(yyy[s_tr:])\n",
        "\n",
        "# x_tr, x_te, y_tr, y_te = xxx, xxx1, yyy, yyy1"
      ]
    },
    {
      "cell_type": "code",
      "execution_count": null,
      "metadata": {
        "ExecuteTime": {
          "end_time": "2022-04-08T21:00:58.300043Z",
          "start_time": "2022-04-08T21:00:58.293229Z"
        },
        "id": "aNyKV5qb7-qo",
        "outputId": "c335fd66-060b-40c6-a9af-a099a30cf3cc"
      },
      "outputs": [
        {
          "data": {
            "text/plain": [
              "(100001969, 10, 1)"
            ]
          },
          "execution_count": 32,
          "metadata": {},
          "output_type": "execute_result"
        }
      ],
      "source": [
        "np.shape(x_te)"
      ]
    },
    {
      "cell_type": "code",
      "execution_count": null,
      "metadata": {
        "ExecuteTime": {
          "end_time": "2022-04-08T20:51:10.704907Z",
          "start_time": "2022-04-08T20:51:10.692004Z"
        },
        "id": "RzyRUYIR7-qp"
      },
      "outputs": [],
      "source": [
        "# x_tr = np.reshape(x_tr, (x_tr.shape[0], x_tr.shape[1], 1))\n",
        "x_te = np.reshape(x_te, (x_te.shape[0], x_te.shape[1], 1))"
      ]
    },
    {
      "cell_type": "code",
      "execution_count": null,
      "metadata": {
        "ExecuteTime": {
          "end_time": "2022-04-03T12:47:17.977030Z",
          "start_time": "2022-03-28T10:22:00.984077Z"
        },
        "scrolled": true,
        "id": "aq62e3l37-qp"
      },
      "outputs": [],
      "source": [
        "# Second regressor model  TCN based \n",
        "from tcn import TCN, tcn_full_summary\n",
        "from tensorflow.keras.layers import Dense,Activation, Dropout\n",
        "from tensorflow.keras.models import Sequential\n",
        "from tensorflow.keras.losses import SparseCategoricalCrossentropy\n",
        "# if time_steps > tcn_layer.receptive_field, then we should not\n",
        "# be able to solve this task.\n",
        "batch_size, time_steps, input_dim = None, x_tr.shape[1],1\n",
        "tcn_layer = TCN(input_shape=(time_steps, input_dim), \n",
        "                kernel_size=7, \n",
        "                dilations=(1, 2, 4, 8, 16, 32,64), \n",
        "                dropout_rate=0.2,\n",
        "                use_batch_norm=False)\n",
        "# The receptive field tells you how far the model can see in terms of timesteps.\n",
        "print('Receptive field size =', tcn_layer.receptive_field)\n",
        "\n",
        "regressor2 = Sequential()\n",
        "regressor2.add(tcn_layer)       \n",
        "#regressor2.add(Dense(units = 32, activation='relu'     ))\n",
        "regressor2.add(Dense(256, activation='relu'))\n",
        "regressor2.add(Dense(256, activation='softmax'))\n",
        "\n",
        "regressor2.compile(optimizer = 'adam', loss = 'categorical_crossentropy', metrics = ['accuracy'])\n",
        "\n",
        "regressor2.summary()\n",
        "#tcn_full_summary(regressor2, expand_residual_blocks=False)\n",
        "regressor2.fit(x_tr, yyy, epochs=50, batch_size=1024)"
      ]
    },
    {
      "cell_type": "code",
      "execution_count": null,
      "metadata": {
        "ExecuteTime": {
          "end_time": "2022-04-04T04:25:12.030941Z",
          "start_time": "2022-04-04T04:25:11.928939Z"
        },
        "id": "euTKimFj7-qq"
      },
      "outputs": [],
      "source": [
        "regressor2.save('/media/DiskC/qrng/ssp_tcn_200M')"
      ]
    },
    {
      "cell_type": "code",
      "execution_count": null,
      "metadata": {
        "ExecuteTime": {
          "end_time": "2022-04-04T04:25:29.705087Z",
          "start_time": "2022-04-04T04:25:29.258793Z"
        },
        "id": "HYJahsQa7-qr"
      },
      "outputs": [],
      "source": [
        "regressor2.save_weights('/media/DiskC/qrng/weights_ssp_tcn_200M')"
      ]
    },
    {
      "cell_type": "code",
      "execution_count": null,
      "metadata": {
        "ExecuteTime": {
          "end_time": "2022-04-08T20:51:29.815895Z",
          "start_time": "2022-04-08T20:51:19.525714Z"
        },
        "id": "HAMkKwGN7-qr",
        "outputId": "e06b6d6c-6ab0-4f5c-ae70-f36a6d2c5d2d"
      },
      "outputs": [
        {
          "name": "stdout",
          "output_type": "stream",
          "text": [
            "WARNING:tensorflow:Entity <bound method TCN.call of <tcn.tcn.TCN object at 0x7f6fd2f3e2e8>> could not be transformed and will be executed as-is. Please report this to the AutgoGraph team. When filing the bug, set the verbosity to 10 (on Linux, `export AUTOGRAPH_VERBOSITY=10`) and attach the full output. Cause: converting <bound method TCN.call of <tcn.tcn.TCN object at 0x7f6fd2f3e2e8>>: AttributeError: module 'gast' has no attribute 'Num'\n",
            "WARNING: Entity <bound method TCN.call of <tcn.tcn.TCN object at 0x7f6fd2f3e2e8>> could not be transformed and will be executed as-is. Please report this to the AutgoGraph team. When filing the bug, set the verbosity to 10 (on Linux, `export AUTOGRAPH_VERBOSITY=10`) and attach the full output. Cause: converting <bound method TCN.call of <tcn.tcn.TCN object at 0x7f6fd2f3e2e8>>: AttributeError: module 'gast' has no attribute 'Num'\n",
            "WARNING:tensorflow:Entity <bound method ResidualBlock.call of <tcn.tcn.ResidualBlock object at 0x7f6fd2f3e198>> could not be transformed and will be executed as-is. Please report this to the AutgoGraph team. When filing the bug, set the verbosity to 10 (on Linux, `export AUTOGRAPH_VERBOSITY=10`) and attach the full output. Cause: converting <bound method ResidualBlock.call of <tcn.tcn.ResidualBlock object at 0x7f6fd2f3e198>>: AssertionError: Bad argument number for Name: 3, expecting 4\n",
            "WARNING: Entity <bound method ResidualBlock.call of <tcn.tcn.ResidualBlock object at 0x7f6fd2f3e198>> could not be transformed and will be executed as-is. Please report this to the AutgoGraph team. When filing the bug, set the verbosity to 10 (on Linux, `export AUTOGRAPH_VERBOSITY=10`) and attach the full output. Cause: converting <bound method ResidualBlock.call of <tcn.tcn.ResidualBlock object at 0x7f6fd2f3e198>>: AssertionError: Bad argument number for Name: 3, expecting 4\n",
            "WARNING:tensorflow:Entity <bound method ResidualBlock.call of <tcn.tcn.ResidualBlock object at 0x7f6fd2e3e358>> could not be transformed and will be executed as-is. Please report this to the AutgoGraph team. When filing the bug, set the verbosity to 10 (on Linux, `export AUTOGRAPH_VERBOSITY=10`) and attach the full output. Cause: converting <bound method ResidualBlock.call of <tcn.tcn.ResidualBlock object at 0x7f6fd2e3e358>>: AssertionError: Bad argument number for Name: 3, expecting 4\n",
            "WARNING: Entity <bound method ResidualBlock.call of <tcn.tcn.ResidualBlock object at 0x7f6fd2e3e358>> could not be transformed and will be executed as-is. Please report this to the AutgoGraph team. When filing the bug, set the verbosity to 10 (on Linux, `export AUTOGRAPH_VERBOSITY=10`) and attach the full output. Cause: converting <bound method ResidualBlock.call of <tcn.tcn.ResidualBlock object at 0x7f6fd2e3e358>>: AssertionError: Bad argument number for Name: 3, expecting 4\n",
            "WARNING:tensorflow:Entity <bound method ResidualBlock.call of <tcn.tcn.ResidualBlock object at 0x7f6fd2dbe4e0>> could not be transformed and will be executed as-is. Please report this to the AutgoGraph team. When filing the bug, set the verbosity to 10 (on Linux, `export AUTOGRAPH_VERBOSITY=10`) and attach the full output. Cause: converting <bound method ResidualBlock.call of <tcn.tcn.ResidualBlock object at 0x7f6fd2dbe4e0>>: AssertionError: Bad argument number for Name: 3, expecting 4\n",
            "WARNING: Entity <bound method ResidualBlock.call of <tcn.tcn.ResidualBlock object at 0x7f6fd2dbe4e0>> could not be transformed and will be executed as-is. Please report this to the AutgoGraph team. When filing the bug, set the verbosity to 10 (on Linux, `export AUTOGRAPH_VERBOSITY=10`) and attach the full output. Cause: converting <bound method ResidualBlock.call of <tcn.tcn.ResidualBlock object at 0x7f6fd2dbe4e0>>: AssertionError: Bad argument number for Name: 3, expecting 4\n",
            "WARNING:tensorflow:Entity <bound method ResidualBlock.call of <tcn.tcn.ResidualBlock object at 0x7f6fd4929978>> could not be transformed and will be executed as-is. Please report this to the AutgoGraph team. When filing the bug, set the verbosity to 10 (on Linux, `export AUTOGRAPH_VERBOSITY=10`) and attach the full output. Cause: converting <bound method ResidualBlock.call of <tcn.tcn.ResidualBlock object at 0x7f6fd4929978>>: AssertionError: Bad argument number for Name: 3, expecting 4\n",
            "WARNING: Entity <bound method ResidualBlock.call of <tcn.tcn.ResidualBlock object at 0x7f6fd4929978>> could not be transformed and will be executed as-is. Please report this to the AutgoGraph team. When filing the bug, set the verbosity to 10 (on Linux, `export AUTOGRAPH_VERBOSITY=10`) and attach the full output. Cause: converting <bound method ResidualBlock.call of <tcn.tcn.ResidualBlock object at 0x7f6fd4929978>>: AssertionError: Bad argument number for Name: 3, expecting 4\n",
            "WARNING:tensorflow:Entity <bound method ResidualBlock.call of <tcn.tcn.ResidualBlock object at 0x7f6fd35dee10>> could not be transformed and will be executed as-is. Please report this to the AutgoGraph team. When filing the bug, set the verbosity to 10 (on Linux, `export AUTOGRAPH_VERBOSITY=10`) and attach the full output. Cause: converting <bound method ResidualBlock.call of <tcn.tcn.ResidualBlock object at 0x7f6fd35dee10>>: AssertionError: Bad argument number for Name: 3, expecting 4\n",
            "WARNING: Entity <bound method ResidualBlock.call of <tcn.tcn.ResidualBlock object at 0x7f6fd35dee10>> could not be transformed and will be executed as-is. Please report this to the AutgoGraph team. When filing the bug, set the verbosity to 10 (on Linux, `export AUTOGRAPH_VERBOSITY=10`) and attach the full output. Cause: converting <bound method ResidualBlock.call of <tcn.tcn.ResidualBlock object at 0x7f6fd35dee10>>: AssertionError: Bad argument number for Name: 3, expecting 4\n",
            "WARNING:tensorflow:Entity <bound method ResidualBlock.call of <tcn.tcn.ResidualBlock object at 0x7f6fd35deeb8>> could not be transformed and will be executed as-is. Please report this to the AutgoGraph team. When filing the bug, set the verbosity to 10 (on Linux, `export AUTOGRAPH_VERBOSITY=10`) and attach the full output. Cause: converting <bound method ResidualBlock.call of <tcn.tcn.ResidualBlock object at 0x7f6fd35deeb8>>: AssertionError: Bad argument number for Name: 3, expecting 4\n",
            "WARNING: Entity <bound method ResidualBlock.call of <tcn.tcn.ResidualBlock object at 0x7f6fd35deeb8>> could not be transformed and will be executed as-is. Please report this to the AutgoGraph team. When filing the bug, set the verbosity to 10 (on Linux, `export AUTOGRAPH_VERBOSITY=10`) and attach the full output. Cause: converting <bound method ResidualBlock.call of <tcn.tcn.ResidualBlock object at 0x7f6fd35deeb8>>: AssertionError: Bad argument number for Name: 3, expecting 4\n",
            "WARNING:tensorflow:Entity <bound method ResidualBlock.call of <tcn.tcn.ResidualBlock object at 0x7f6fd35de5c0>> could not be transformed and will be executed as-is. Please report this to the AutgoGraph team. When filing the bug, set the verbosity to 10 (on Linux, `export AUTOGRAPH_VERBOSITY=10`) and attach the full output. Cause: converting <bound method ResidualBlock.call of <tcn.tcn.ResidualBlock object at 0x7f6fd35de5c0>>: AssertionError: Bad argument number for Name: 3, expecting 4\n",
            "WARNING: Entity <bound method ResidualBlock.call of <tcn.tcn.ResidualBlock object at 0x7f6fd35de5c0>> could not be transformed and will be executed as-is. Please report this to the AutgoGraph team. When filing the bug, set the verbosity to 10 (on Linux, `export AUTOGRAPH_VERBOSITY=10`) and attach the full output. Cause: converting <bound method ResidualBlock.call of <tcn.tcn.ResidualBlock object at 0x7f6fd35de5c0>>: AssertionError: Bad argument number for Name: 3, expecting 4\n",
            "WARNING:tensorflow:From /home/hegder/anaconda3/envs/dlc/lib/python3.6/site-packages/tensorflow/python/ops/init_ops.py:97: calling GlorotUniform.__init__ (from tensorflow.python.ops.init_ops) with dtype is deprecated and will be removed in a future version.\n",
            "Instructions for updating:\n",
            "Call initializer instance with the dtype argument instead of passing it to the constructor\n",
            "WARNING:tensorflow:From /home/hegder/anaconda3/envs/dlc/lib/python3.6/site-packages/tensorflow/python/ops/init_ops.py:1251: calling VarianceScaling.__init__ (from tensorflow.python.ops.init_ops) with dtype is deprecated and will be removed in a future version.\n",
            "Instructions for updating:\n",
            "Call initializer instance with the dtype argument instead of passing it to the constructor\n"
          ]
        },
        {
          "name": "stdout",
          "output_type": "stream",
          "text": [
            "WARNING:tensorflow:From /home/hegder/anaconda3/envs/dlc/lib/python3.6/site-packages/tensorflow/python/ops/init_ops.py:97: calling Zeros.__init__ (from tensorflow.python.ops.init_ops) with dtype is deprecated and will be removed in a future version.\n",
            "Instructions for updating:\n",
            "Call initializer instance with the dtype argument instead of passing it to the constructor\n"
          ]
        }
      ],
      "source": [
        "from tcn import TCN\n",
        "model = tf.keras.models.load_model('/media/DiskC/qrng/ssp_tcn_200M', custom_objects={'TCN': TCN})"
      ]
    },
    {
      "cell_type": "code",
      "execution_count": null,
      "metadata": {
        "ExecuteTime": {
          "end_time": "2022-04-09T00:56:06.509409Z",
          "start_time": "2022-04-08T21:02:06.191114Z"
        },
        "scrolled": false,
        "id": "-Jdhi2kE7-qs",
        "outputId": "15ebc85d-9a9c-4d4a-8c89-2b06a5fc4dad"
      },
      "outputs": [
        {
          "name": "stderr",
          "output_type": "stream",
          "text": [
            "/home/hegder/anaconda3/envs/dlc/lib/python3.6/site-packages/ipykernel_launcher.py:7: DeprecationWarning: elementwise comparison failed; this will raise an error in the future.\n",
            "  import sys\n"
          ]
        },
        {
          "ename": "TypeError",
          "evalue": "'bool' object is not iterable",
          "output_type": "error",
          "traceback": [
            "\u001b[0;31m---------------------------------------------------------------------------\u001b[0m",
            "\u001b[0;31mTypeError\u001b[0m                                 Traceback (most recent call last)",
            "\u001b[0;32m<ipython-input-33-09da3b0e36af>\u001b[0m in \u001b[0;36m<module>\u001b[0;34m\u001b[0m\n\u001b[1;32m      5\u001b[0m \u001b[0my_te1\u001b[0m \u001b[0;34m=\u001b[0m \u001b[0mnp\u001b[0m\u001b[0;34m.\u001b[0m\u001b[0margmax\u001b[0m\u001b[0;34m(\u001b[0m\u001b[0my_te\u001b[0m\u001b[0;34m,\u001b[0m \u001b[0maxis\u001b[0m\u001b[0;34m=\u001b[0m\u001b[0;36m1\u001b[0m\u001b[0;34m)\u001b[0m\u001b[0;34m\u001b[0m\u001b[0;34m\u001b[0m\u001b[0m\n\u001b[1;32m      6\u001b[0m \u001b[0;34m\u001b[0m\u001b[0m\n\u001b[0;32m----> 7\u001b[0;31m \u001b[0mscore\u001b[0m \u001b[0;34m=\u001b[0m \u001b[0msum\u001b[0m\u001b[0;34m(\u001b[0m\u001b[0my_pre1\u001b[0m \u001b[0;34m==\u001b[0m \u001b[0my_te1\u001b[0m\u001b[0;34m)\u001b[0m \u001b[0;34m/\u001b[0m \u001b[0mlen\u001b[0m\u001b[0;34m(\u001b[0m\u001b[0my_te1\u001b[0m\u001b[0;34m)\u001b[0m\u001b[0;34m\u001b[0m\u001b[0;34m\u001b[0m\u001b[0m\n\u001b[0m\u001b[1;32m      8\u001b[0m \u001b[0mprint\u001b[0m\u001b[0;34m(\u001b[0m\u001b[0mscore\u001b[0m\u001b[0;34m)\u001b[0m\u001b[0;34m\u001b[0m\u001b[0;34m\u001b[0m\u001b[0m\n",
            "\u001b[0;31mTypeError\u001b[0m: 'bool' object is not iterable"
          ]
        }
      ],
      "source": [
        "x_te = np.reshape(x_te, (x_te.shape[0], x_te.shape[1], 1))\n",
        "y_pre = model.predict(x_te)\n",
        "\n",
        "y_pre1 = np.argmax(y_pre, axis=1)\n",
        "y_te1 = np.argmax(y_te, axis=1)\n",
        "\n",
        "score = sum(y_pre1 == y_te1) / len(y_te1)\n",
        "print(score)"
      ]
    },
    {
      "cell_type": "code",
      "execution_count": null,
      "metadata": {
        "ExecuteTime": {
          "end_time": "2022-04-09T05:10:58.966342Z",
          "start_time": "2022-04-09T05:10:58.939402Z"
        },
        "id": "j-Xh294P7-qs",
        "outputId": "5677026a-eb25-4e56-f450-fa82b2ccacb9"
      },
      "outputs": [
        {
          "name": "stderr",
          "output_type": "stream",
          "text": [
            "/home/hegder/anaconda3/envs/dlc/lib/python3.6/site-packages/ipykernel_launcher.py:1: DeprecationWarning: elementwise comparison failed; this will raise an error in the future.\n",
            "  \"\"\"Entry point for launching an IPython kernel.\n"
          ]
        },
        {
          "ename": "TypeError",
          "evalue": "'int' object is not iterable",
          "output_type": "error",
          "traceback": [
            "\u001b[0;31m---------------------------------------------------------------------------\u001b[0m",
            "\u001b[0;31mTypeError\u001b[0m                                 Traceback (most recent call last)",
            "\u001b[0;32m<ipython-input-43-25ad7568b1a7>\u001b[0m in \u001b[0;36m<module>\u001b[0;34m\u001b[0m\n\u001b[0;32m----> 1\u001b[0;31m \u001b[0mscore\u001b[0m \u001b[0;34m=\u001b[0m \u001b[0msum\u001b[0m\u001b[0;34m(\u001b[0m\u001b[0mint\u001b[0m\u001b[0;34m(\u001b[0m\u001b[0my_pre1\u001b[0m \u001b[0;34m==\u001b[0m \u001b[0my_te1\u001b[0m\u001b[0;34m)\u001b[0m\u001b[0;34m)\u001b[0m \u001b[0;34m/\u001b[0m \u001b[0mlen\u001b[0m\u001b[0;34m(\u001b[0m\u001b[0my_te1\u001b[0m\u001b[0;34m)\u001b[0m\u001b[0;34m\u001b[0m\u001b[0;34m\u001b[0m\u001b[0m\n\u001b[0m\u001b[1;32m      2\u001b[0m \u001b[0mprint\u001b[0m\u001b[0;34m(\u001b[0m\u001b[0mscore\u001b[0m\u001b[0;34m)\u001b[0m\u001b[0;34m\u001b[0m\u001b[0;34m\u001b[0m\u001b[0m\n",
            "\u001b[0;31mTypeError\u001b[0m: 'int' object is not iterable"
          ]
        }
      ],
      "source": [
        "score = sum(int(y_pre1 == y_te1)) / len(y_te1)\n",
        "print(score)"
      ]
    },
    {
      "cell_type": "code",
      "execution_count": null,
      "metadata": {
        "ExecuteTime": {
          "end_time": "2022-04-09T04:55:56.815538Z",
          "start_time": "2022-04-09T04:55:56.805535Z"
        },
        "id": "FnON0p6Q7-qt",
        "outputId": "e5df6873-5614-466f-9d1b-f6d641673952"
      },
      "outputs": [
        {
          "data": {
            "text/plain": [
              "(100001969,)"
            ]
          },
          "execution_count": 38,
          "metadata": {},
          "output_type": "execute_result"
        }
      ],
      "source": [
        "np.shape(y_pre1)\n",
        "# y_te[1]"
      ]
    },
    {
      "cell_type": "code",
      "execution_count": null,
      "metadata": {
        "ExecuteTime": {
          "end_time": "2022-04-08T20:58:50.443541Z",
          "start_time": "2022-04-08T20:58:50.434037Z"
        },
        "id": "AAUIO8p87-qu",
        "outputId": "a43bbe4a-876b-477c-f8cd-17f028dcc4a6"
      },
      "outputs": [
        {
          "data": {
            "text/plain": [
              "array([list([1, 2, 3, 5, 4, 8, 6, 4, 65, 2]), list([1, 5, 8, 9, 6]),\n",
              "       list([9])], dtype=object)"
            ]
          },
          "execution_count": 30,
          "metadata": {},
          "output_type": "execute_result"
        }
      ],
      "source": [
        "sj = np.array([[1,2,3,5,4,8,6,4,65,2],[1,5,8,9,6],[9]])\n",
        "sj\n",
        "# np.shape(sj)\n"
      ]
    },
    {
      "cell_type": "code",
      "execution_count": null,
      "metadata": {
        "id": "UVQMkLE37-qw"
      },
      "outputs": [],
      "source": [
        "# 20-100%\n",
        "# 22-99.43%\n",
        "# 24-99.73%\n",
        "# 26-38.9%\n",
        "#28-40.25%\n",
        "# 30-44%\n",
        "\n",
        "\n",
        "#26-dialation=32-34s - 23.91%\n",
        "#26-dropout rate=0.3-60s"
      ]
    },
    {
      "cell_type": "code",
      "execution_count": null,
      "metadata": {
        "id": "LAN2Oprj7-qw"
      },
      "outputs": [],
      "source": [
        "# 24 - 75%\n",
        "# 26 - 36%\n",
        "# 28 - 92%\n",
        "# 30 - 4.1%\n",
        "# 32 - 10%\n",
        "\n",
        "# 26 - 38.6%  (1M)\n",
        "# 28 - 91.7%  (1M)\n",
        "# 30 - 11.69% (1M)\n",
        "# 32 - 12.79% (1M)\n",
        "\n",
        "# 32 - 2.3%   (1M)(Span=20)\n",
        "# 32 - 1.7%   (1M)(Span=15)\n",
        "\n",
        "# 32 (Train) - 38.6%   (train=1.2M)(Span=20)(epochs=10)\n",
        "# 32 - 3.36%   (1M)(Span=20)\n",
        "# 32 - 3.20%   (1M)(Span=20)\n",
        "# 32 - 0.5%   (1M)(Span=20)\n",
        "# 32 - 4.4%(10epoch),4.07%(50epoch)   (1M)(Span=20)"
      ]
    },
    {
      "cell_type": "code",
      "execution_count": null,
      "metadata": {
        "ExecuteTime": {
          "end_time": "2022-02-24T11:48:01.274332Z",
          "start_time": "2022-02-24T11:48:01.271158Z"
        },
        "id": "diRtIvHk7-qy"
      },
      "outputs": [],
      "source": [
        "# y_tr[0], np.argmax(y_pre[0]),y_pre[0]"
      ]
    },
    {
      "cell_type": "code",
      "execution_count": null,
      "metadata": {
        "ExecuteTime": {
          "end_time": "2022-03-11T07:49:36.461894Z",
          "start_time": "2022-03-11T07:49:36.348464Z"
        },
        "id": "-z4CbAxM7-qz"
      },
      "outputs": [],
      "source": [
        "data = {'24':75.73,\n",
        "        '26':38, '28':91, '30': 11, '32': 12}\n",
        "\n",
        "# 20-100%\n",
        "# 22-99.43%\n",
        "# 24-99.73%\n",
        "# 26-38.9%\n",
        "#28-40.25%\n",
        "# 30-44%\n",
        "courses = list(data.keys())\n",
        "values = list(data.values())\n",
        "  \n",
        "fig = plt.figure(figsize = (10, 5))\n",
        " \n",
        "# creating the bar plot\n",
        "plt.bar(courses, values, color ='maroon',\n",
        "        width = 0.4)\n",
        " \n",
        "plt.xlabel(\"Stages in LC-RNG\")\n",
        "plt.ylabel(\"Accuracy\")\n",
        "# plt.title(\"Students enrolled in different courses\")\n",
        "plt.ylim(0,100)\n",
        "plt.show()"
      ]
    }
  ],
  "metadata": {
    "hide_input": false,
    "kernelspec": {
      "display_name": "Python 3",
      "language": "python",
      "name": "python3"
    },
    "language_info": {
      "codemirror_mode": {
        "name": "ipython",
        "version": 3
      },
      "file_extension": ".py",
      "mimetype": "text/x-python",
      "name": "python",
      "nbconvert_exporter": "python",
      "pygments_lexer": "ipython3",
      "version": "3.6.10"
    },
    "colab": {
      "provenance": [],
      "include_colab_link": true
    }
  },
  "nbformat": 4,
  "nbformat_minor": 0
}